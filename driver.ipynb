{
 "cells": [
  {
   "cell_type": "code",
   "execution_count": null,
   "metadata": {},
   "outputs": [],
   "source": [
    "%load_ext autoreload\n",
    "%autoreload 2\n",
    "from tqdm.notebook import tqdm\n",
    "\n",
    "from mods import cluster\n",
    "from mods.map import *"
   ]
  },
  {
   "cell_type": "code",
   "execution_count": null,
   "metadata": {
    "scrolled": false
   },
   "outputs": [],
   "source": [
    "# CLEAN & CLUSTER OLD DATA\n",
    "# run once over old data (previous scrape) to get original cluster labels\n",
    "\n",
    "\n",
    "cluster.run(verb=False, sample_test=False, just_host_index=True)\n",
    "cluster.run(verb=False, sample_test=False, old=True)\n",
    "cluster.run(verb=False, sample_test=False)"
   ]
  },
  {
   "cell_type": "code",
   "execution_count": null,
   "metadata": {},
   "outputs": [],
   "source": [
    "# PREP DATA FOR MAPPING (current data)\n",
    "sub_mode(False)\n",
    "centroids, listings, sub_centroids = load_data()\n",
    "centroids, listings = big_centroid_focus(centroids, listings)\n",
    "centroids = assess_isd_matches(centroids, listings)\n",
    "centroids = get_city_regions(centroids)\n",
    "centroids = get_best_addresses(centroids)\n",
    "sub_centroids = get_best_addresses(sub_centroids, True)\n",
    "global_search(centroids, listings)"
   ]
  },
  {
   "cell_type": "markdown",
   "metadata": {},
   "source": [
    "## make high-conf centroids page"
   ]
  },
  {
   "cell_type": "code",
   "execution_count": null,
   "metadata": {},
   "outputs": [],
   "source": [
    "# TOP CENTROIDS PAGE\n",
    "m = map_top_centroids(centroids, listings)\n",
    "page = make_top_centroids_page(m, centroids, listings)\n",
    "Html_file= open('airbnb_tracker/clusters.html',\"w\")\n",
    "Html_file.write(page)\n",
    "Html_file.close()"
   ]
  },
  {
   "cell_type": "markdown",
   "metadata": {},
   "source": [
    "## make home page"
   ]
  },
  {
   "cell_type": "code",
   "execution_count": null,
   "metadata": {},
   "outputs": [],
   "source": [
    "# HOME PAGE\n",
    "m = map_listings(listings)\n",
    "page = make_home_page(m, listings)\n",
    "Html_file= open('airbnb_tracker/home.html',\"w\")\n",
    "Html_file.write(page)\n",
    "Html_file.close()"
   ]
  },
  {
   "cell_type": "markdown",
   "metadata": {},
   "source": [
    "## make host focus pages"
   ]
  },
  {
   "cell_type": "code",
   "execution_count": null,
   "metadata": {},
   "outputs": [],
   "source": [
    "# HOST FOCUS PAGES\n",
    "for host in tqdm(listings.host_id.unique()):\n",
    "    m = map_focus_data('host_id', host, centroids, listings, sub_centroids)\n",
    "    page = make_host_focus_page('host_id', host, m, centroids, listings, sub_centroids)\n",
    "    Html_file= open(f'airbnb_tracker/host/{host}.html',\"w\")\n",
    "    Html_file.write(page)\n",
    "    Html_file.close()"
   ]
  },
  {
   "cell_type": "markdown",
   "metadata": {},
   "source": [
    "## make centroid focus pages"
   ]
  },
  {
   "cell_type": "code",
   "execution_count": null,
   "metadata": {},
   "outputs": [],
   "source": [
    "# CENTROID FOCUS PAGES\n",
    "for c_group in tqdm(listings.centroid_group.dropna().unique()):\n",
    "    m = map_focus_data('centroid_group', c_group, centroids, listings, sub_centroids)\n",
    "    page = make_centroid_page('centroid_group', c_group, m, listings, centroids, sub_centroids)\n",
    "    Html_file= open(f'airbnb_tracker/cluster/{c_group}.html',\"w\")\n",
    "    Html_file.write(page)\n",
    "    Html_file.close()"
   ]
  },
  {
   "cell_type": "markdown",
   "metadata": {},
   "source": [
    "## make sub-centroid focus pages"
   ]
  },
  {
   "cell_type": "code",
   "execution_count": null,
   "metadata": {},
   "outputs": [],
   "source": [
    "# SUB_CENTROID FOCUS PAGES\n",
    "# (currently disabled on public release)\n",
    "\n",
    "for sub_c_group in tqdm(listings.sub_centroid.dropna().unique()):\n",
    "    m = map_one_sub(sub_c_group, listings, sub_centroids)\n",
    "    page = make_sub_centroid_page(sub_c_group, m, listings, sub_centroids)\n",
    "    Html_file= open(f'airbnb_tracker/sub_cluster/{sub_c_group}.html',\"w\")\n",
    "    Html_file.write(page)\n",
    "    Html_file.close()"
   ]
  }
 ],
 "metadata": {
  "kernelspec": {
   "display_name": "Python 3",
   "language": "python",
   "name": "python3"
  },
  "language_info": {
   "codemirror_mode": {
    "name": "ipython",
    "version": 3
   },
   "file_extension": ".py",
   "mimetype": "text/x-python",
   "name": "python",
   "nbconvert_exporter": "python",
   "pygments_lexer": "ipython3",
   "version": "3.8.5"
  }
 },
 "nbformat": 4,
 "nbformat_minor": 4
}
